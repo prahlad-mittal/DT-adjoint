{
 "cells": [
  {
   "cell_type": "code",
   "execution_count": 3,
   "id": "c8cf87e7-31d1-4057-8735-12ce84369415",
   "metadata": {},
   "outputs": [],
   "source": [
    "from firedrake import *\n",
    "from gadopt import *\n",
    "import numpy as np\n",
    "\n",
    "#set up mesh\n",
    "rmin, rmax, ncells, nlayers = 1.22, 2.22, 256, 64\n",
    "bottom_id, top_id = \"bottom\", \"top\"\n",
    "\n",
    "with CheckpointFile(\"final_state_1e5.h5\", 'r') as final_checkpoint:\n",
    "    mesh = final_checkpoint.load_mesh(\"firedrake_default_extruded\")\n",
    "    mesh.cartesian = False\n",
    "    \n",
    "    T = final_checkpoint.load_function(mesh, \"Temperature\")\n",
    "    mu = final_checkpoint.load_function(mesh, \"Viscosity\")\n",
    "    # p_load = final_checkpoint.load_function(mesh, \"Pressure\", idx = 19800)\n",
    "    # u_load = final_checkpoint.load_function(mesh, \"Velocity\", idx = 19800)\n",
    "    # Taverage = final_checkpoint.load_function(mesh, \"Average Temperature\", idx = 0)"
   ]
  },
  {
   "cell_type": "code",
   "execution_count": 15,
   "id": "d824445b-9e11-44e4-b93e-65439458e6d8",
   "metadata": {},
   "outputs": [
    {
     "name": "stdout",
     "output_type": "stream",
     "text": [
      "  0 SNES Function norm 2.207639994267e+03\n",
      "      Linear Stokes_fieldsplit_1_ solve converged due to CONVERGED_RTOL iterations 7\n",
      "  1 SNES Function norm 3.716582048808e-02\n"
     ]
    }
   ],
   "source": [
    "#solving for the Dynamic Topography (DT1)\n",
    "\n",
    "V = VectorFunctionSpace(mesh, \"CG\", 2)  # Velocity function space (vector)\n",
    "W = FunctionSpace(mesh, \"CG\", 1)  # Pressure function space (scalar)\n",
    "Q = FunctionSpace(mesh, \"CG\", 2)  # Temperature function space (scalar)\n",
    "Q1 = FunctionSpace(mesh, \"CG\", 1)  # Average pressure function space (scalar, P1)\n",
    "Z = MixedFunctionSpace([V, W])  # Mixed function space.\n",
    "\n",
    "# Paverage = Function(Q1, name=\"Average Pressure\")\n",
    "# # Calculate the layer average of the initial state\n",
    "# averager_pressure = LayerAveraging(mesh, np.linspace(rmin, rmax, nlayers * 2), quad_degree=6)\n",
    "# averager_pressure.extrapolate_layer_average(Paverage, averager_pressure.get_layer_average(p_load))\n",
    "\n",
    "z = Function(Z)  # A field over the mixed function space Z.\n",
    "u, p = split(z)  # Returns symbolic UFL expression for u and p\n",
    "\n",
    "# u_func = u_load \n",
    "# p_func = p_load - Paverage\n",
    "\n",
    "#velocity and pressure functions\n",
    "u_func, p_func = z.subfunctions\n",
    "u_func.rename(\"Velocity\")\n",
    "p_func.rename(\"Pressure\")\n",
    "\n",
    "Ra = Constant(1e5)  # Rayleigh number\n",
    "approximation = BoussinesqApproximation(Ra)\n",
    "\n",
    "Z_nullspace = create_stokes_nullspace(Z, closed=True, rotational=True)\n",
    "\n",
    "Z_near_nullspace = create_stokes_nullspace(Z, closed=False, rotational=True, translations=[0, 1])\n",
    "\n",
    "#bcs \n",
    "stokes_bcs = {\n",
    "    bottom_id: {'un': 0},\n",
    "    top_id: {'un': 0},\n",
    "}\n",
    "\n",
    "temp_bcs = {\n",
    "    bottom_id: {'T': 1.0},\n",
    "    top_id: {'T': 0.0},\n",
    "}\n",
    "\n",
    "stokes_solver = StokesSolver(z, T, approximation, bcs=stokes_bcs, mu=mu,\n",
    "                            constant_jacobian=True,\n",
    "                             nullspace=Z_nullspace, transpose_nullspace=Z_nullspace,\n",
    "                             near_nullspace=Z_near_nullspace)\n",
    "\n",
    "surface_force_solver = BoundaryNormalStressSolver(stokes_solver, top_id)\n",
    "\n",
    "# At this point we have all the solver objects we need, we first solve for\n",
    "# velocity, and then surface force (or surface dynamic topography)\n",
    "\n",
    "# Solve Stokes sytem:\n",
    "stokes_solver.solve()\n",
    "surface_force = surface_force_solver.solve()\n",
    "\n",
    "\n",
    "\n",
    "\n",
    "# And here we visualise it and write the fields out\n",
    "\n",
    "VTKFile(\"DT1.pvd\").write(*z.subfunctions, T, surface_force, mu)\n",
    "with CheckpointFile(\"dt1.h5\", mode=\"w\") as file:\n",
    "    file.save_mesh(mesh)\n",
    "    file.save_function(surface_force, name=\"Surface Force\")\n",
    "    file.save_function(T, name=\"Temperature\")\n",
    "    file.save_function(mu, name=\"Viscosity\")"
   ]
  },
  {
   "cell_type": "code",
   "execution_count": null,
   "id": "f91f42e7-08d2-4571-b587-b1c7df3dc84f",
   "metadata": {},
   "outputs": [],
   "source": []
  },
  {
   "cell_type": "code",
   "execution_count": null,
   "id": "bcd2f66c-8f7b-47c0-90ba-69d5b054ccf6",
   "metadata": {},
   "outputs": [],
   "source": []
  },
  {
   "cell_type": "code",
   "execution_count": 11,
   "id": "ad4d3594-2eb3-4030-8382-70fa99692d2a",
   "metadata": {},
   "outputs": [
    {
     "name": "stdout",
     "output_type": "stream",
     "text": [
      "  0 SNES Function norm 2.207639994267e+03\n",
      "      Linear Stokes_fieldsplit_1_ solve converged due to CONVERGED_RTOL iterations 3\n",
      "  1 SNES Function norm 3.768585920649e-02\n"
     ]
    }
   ],
   "source": [
    "#DT2\n",
    "#solving for the Dynamic Topography (DT2)\n",
    "\n",
    "from gadopt import *\n",
    "from gadopt.inverse import *\n",
    "\n",
    "#load previous stuff - mesh, T, DT1\n",
    "bottom_id, top_id = \"bottom\", \"top\"\n",
    "with CheckpointFile(\"dt1.h5\", 'r') as final_checkpoint:\n",
    "    mesh = final_checkpoint.load_mesh(\"firedrake_default_extruded\")\n",
    "    mesh.cartesian = False\n",
    "    \n",
    "    T = final_checkpoint.load_function(mesh, \"Temperature\")\n",
    "    rt1 = final_checkpoint.load_function(mesh, \"Surface Force\")\n",
    "\n",
    "V = VectorFunctionSpace(mesh, \"CG\", 2)  # Velocity function space (vector)\n",
    "W = FunctionSpace(mesh, \"CG\", 1)  # Pressure function space (scalar)\n",
    "Q = FunctionSpace(mesh, \"CG\", 2)  # Temperature function space (scalar)\n",
    "Z = MixedFunctionSpace([V, W])  # Mixed function space.\n",
    "\n",
    "z = Function(Z)  # A field over the mixed function space Z.\n",
    "u, p = split(z)  # Returns symbolic UFL expression for u and p\n",
    "z.subfunctions[0].rename(\"Velocity\")\n",
    "z.subfunctions[1].rename(\"Pressure\")\n",
    "\n",
    "Ra = Constant(1e5)  # Rayleigh number\n",
    "approximation = BoussinesqApproximation(Ra)\n",
    "\n",
    "#viscosity as control d(mu)\n",
    "mu_control = Function(W, name=\"control\").assign(0.0)\n",
    "control = Control(mu_control)\n",
    "\n",
    "#viscosity (isoviscous)\n",
    "mu_2 = Function(W, name=\"viscosity\")\n",
    "mu_2.interpolate(10 ** (mu_control))\n",
    "\n",
    "\n",
    "Z_nullspace = create_stokes_nullspace(Z, closed=True, rotational=True)\n",
    "\n",
    "Z_near_nullspace = create_stokes_nullspace(Z, closed=False, rotational=True, translations=[0, 1])\n",
    "\n",
    "#bcs \n",
    "stokes_bcs = {\n",
    "    bottom_id: {'un': 0},\n",
    "    top_id: {'un': 0},\n",
    "}\n",
    "\n",
    "temp_bcs = {\n",
    "    bottom_id: {'T': 1.0},\n",
    "    top_id: {'T': 0.0},\n",
    "}\n",
    "\n",
    "stokes_solver = StokesSolver(z, T, approximation, bcs=stokes_bcs, mu=mu_2,\n",
    "                            constant_jacobian=True,\n",
    "                             nullspace=Z_nullspace, transpose_nullspace=Z_nullspace,\n",
    "                             near_nullspace=Z_near_nullspace)\n",
    "\n",
    "surface_force_solver = BoundaryNormalStressSolver(stokes_solver, top_id)\n",
    "\n",
    "# At this point we have all the solver objects we need, we first solve for\n",
    "# velocity, and then surface force (or surface dynamic topography)\n",
    "\n",
    "# Solve Stokes sytem:\n",
    "stokes_solver.solve()\n",
    "rt2 = surface_force_solver.solve()  #residual topography for the isoviscous case\n",
    "\n",
    "# #calculating objective/error function (J)\n",
    "# objective_func = assemble(0.5 * (rt2 - rt1) ** 2 * ds_t)\n",
    "\n",
    "VTKFile(\"DT2.pvd\").write(*z.subfunctions, T, rt2, mu_2)\n",
    "# with CheckpointFile(\"checkpoint_surface_force_10e5.h5\", mode=\"w\") as file:\n",
    "#     file.save_mesh(mesh)\n",
    "#     file.save_function(rt1, name=\"DT_actual\")\n",
    "#     file.save_function(rt2, name=\"DT_isoviscous\")\n",
    "#     file.save_function(T, name=\"Temperature\")\n",
    "#     file.save_function(mu, name=\"Viscosity\")\n",
    "#     file.save_function(mu_2, name=\"mu_2\")"
   ]
  },
  {
   "cell_type": "code",
   "execution_count": 12,
   "id": "64f39f62-c2d0-4808-8d0d-dae357505dc9",
   "metadata": {},
   "outputs": [],
   "source": [
    "objective_func = assemble(0.5 * (rt1 - rt2) ** 2 * ds_t)"
   ]
  },
  {
   "cell_type": "code",
   "execution_count": 13,
   "id": "3d325902-2d11-48cb-b5dd-0d5fc093ab99",
   "metadata": {},
   "outputs": [
    {
     "data": {
      "text/plain": [
       "9323938.38155149"
      ]
     },
     "execution_count": 13,
     "metadata": {},
     "output_type": "execute_result"
    }
   ],
   "source": [
    "objective_func"
   ]
  },
  {
   "cell_type": "code",
   "execution_count": 1,
   "id": "27968be6-e872-4368-ae59-dd8440476d13",
   "metadata": {},
   "outputs": [
    {
     "name": "stderr",
     "output_type": "stream",
     "text": [
      "/home/prahlada/firedrake/lib/python3.10/site-packages/pytools/persistent_dict.py:59: UserWarning: pytools.persistent_dict: unable to import 'siphash24.siphash13', falling back to hashlib.sha256\n",
      "  warn(\"pytools.persistent_dict: unable to import 'siphash24.siphash13', \"\n",
      "firedrake:WARNING OMP_NUM_THREADS is not set or is set to a value greater than 1, we suggest setting OMP_NUM_THREADS=1 to improve performance\n"
     ]
    },
    {
     "name": "stdout",
     "output_type": "stream",
     "text": [
      "hello\n"
     ]
    }
   ],
   "source": [
    "from firedrake import *\n",
    "from gadopt import *\n",
    "import numpy as np\n",
    "\n",
    "#set up mesh\n",
    "rmin, rmax, ncells, nlayers = 1.22, 2.22, 256, 64\n",
    "bottom_id, top_id = \"bottom\", \"top\"\n",
    "\n",
    "with CheckpointFile(\"Checkpoint_File_1e5_04sept.h5\", 'r') as final_checkpoint:\n",
    "    mesh = final_checkpoint.load_mesh(\"firedrake_default_extruded\")\n",
    "    mesh.cartesian = False\n",
    "    \n",
    "    T = final_checkpoint.load_function(mesh, \"Temperature\", idx = 19800)\n",
    "    mu = final_checkpoint.load_function(mesh, \"Viscosity\", idx = 19800)\n",
    "    p_load = final_checkpoint.load_function(mesh, \"Pressure\", idx = 19800)\n",
    "    u_load = final_checkpoint.load_function(mesh, \"Velocity\", idx = 19800)\n",
    "    Taverage = final_checkpoint.load_function(mesh, \"Average Temperature\", idx = 0)\n",
    "\n",
    "with CheckpointFile(\"final_state_1e5.h5\", mode=\"w\") as file:\n",
    "    file.save_mesh(mesh)\n",
    "    file.save_function(T, name=\"Temperature\")\n",
    "    file.save_function(mu, name=\"Viscosity\")\n",
    "    file.save_function(p_load, name=\"Pressure\")\n",
    "    file.save_function(u_load, name=\"Velocity\")"
   ]
  },
  {
   "cell_type": "code",
   "execution_count": null,
   "id": "a6e9db5b-7f70-47fc-a01c-65f48d7ae4ee",
   "metadata": {},
   "outputs": [],
   "source": []
  },
  {
   "cell_type": "code",
   "execution_count": null,
   "id": "d4136a58-f27e-4db1-a47a-bdce44450c96",
   "metadata": {},
   "outputs": [],
   "source": []
  },
  {
   "cell_type": "code",
   "execution_count": null,
   "id": "dcd6d040-9b8b-4733-ad9e-89c0f4148a27",
   "metadata": {},
   "outputs": [],
   "source": []
  },
  {
   "cell_type": "code",
   "execution_count": null,
   "id": "6ba5d6d9-e94d-4237-8ac1-5dc4508690e1",
   "metadata": {},
   "outputs": [],
   "source": []
  },
  {
   "cell_type": "code",
   "execution_count": null,
   "id": "32491ce8-a0c1-49ee-8b8d-8e79a7081eaf",
   "metadata": {},
   "outputs": [],
   "source": []
  },
  {
   "cell_type": "code",
   "execution_count": null,
   "id": "6db33eca-33e8-427a-a907-8d04851ad0aa",
   "metadata": {},
   "outputs": [],
   "source": []
  },
  {
   "cell_type": "code",
   "execution_count": null,
   "id": "f2c6e5f9-14d1-4dcb-85f3-49d4c073820e",
   "metadata": {},
   "outputs": [],
   "source": []
  },
  {
   "cell_type": "code",
   "execution_count": null,
   "id": "de75f39f-0aba-4e54-8889-6dd34a0c0fb5",
   "metadata": {},
   "outputs": [],
   "source": []
  },
  {
   "cell_type": "code",
   "execution_count": null,
   "id": "61e0966e-0bb2-4280-bba7-50a552583833",
   "metadata": {},
   "outputs": [],
   "source": []
  }
 ],
 "metadata": {
  "kernelspec": {
   "display_name": "Python 3 (ipykernel)",
   "language": "python",
   "name": "python3"
  },
  "language_info": {
   "codemirror_mode": {
    "name": "ipython",
    "version": 3
   },
   "file_extension": ".py",
   "mimetype": "text/x-python",
   "name": "python",
   "nbconvert_exporter": "python",
   "pygments_lexer": "ipython3",
   "version": "3.10.12"
  }
 },
 "nbformat": 4,
 "nbformat_minor": 5
}
